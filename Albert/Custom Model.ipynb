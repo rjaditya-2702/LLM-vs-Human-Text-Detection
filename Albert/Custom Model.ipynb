{
  "cells": [
    {
      "cell_type": "code",
      "execution_count": 2,
      "metadata": {
        "id": "Ag-t5QLmIpa6"
      },
      "outputs": [
        {
          "name": "stderr",
          "output_type": "stream",
          "text": [
            "[nltk_data] Downloading package stopwords to\n",
            "[nltk_data]     /Users/rjaditya/nltk_data...\n",
            "[nltk_data]   Unzipping corpora/stopwords.zip.\n"
          ]
        },
        {
          "data": {
            "text/plain": [
              "True"
            ]
          },
          "execution_count": 2,
          "metadata": {},
          "output_type": "execute_result"
        }
      ],
      "source": [
        "from sklearn.model_selection import train_test_split\n",
        "import pandas as pd\n",
        "import numpy as np\n",
        "from utils import process_tweet\n",
        "import pdb\n",
        "from nltk.corpus import stopwords, twitter_samples\n",
        "import numpy as np\n",
        "import pandas as pd\n",
        "import nltk\n",
        "import string\n",
        "from nltk.tokenize import TweetTokenizer\n",
        "import os\n",
        "\n",
        "nltk.download('stopwords')"
      ]
    },
    {
      "cell_type": "code",
      "execution_count": 3,
      "metadata": {
        "id": "aQjGGUxnYR2D"
      },
      "outputs": [
        {
          "data": {
            "text/plain": [
              "'\\n1. split the data into train and test\\n2. create vocab\\n3. get word embeddings\\n4. train a NN\\n5. evaluate\\n'"
            ]
          },
          "execution_count": 3,
          "metadata": {},
          "output_type": "execute_result"
        }
      ],
      "source": [
        "'''\n",
        "1. split the data into train and test\n",
        "2. create vocab\n",
        "3. get word embeddings\n",
        "4. train a NN\n",
        "5. evaluate\n",
        "'''"
      ]
    },
    {
      "cell_type": "code",
      "execution_count": 4,
      "metadata": {
        "id": "PSSmS7i8_d7D"
      },
      "outputs": [
        {
          "data": {
            "text/html": [
              "<div>\n",
              "<style scoped>\n",
              "    .dataframe tbody tr th:only-of-type {\n",
              "        vertical-align: middle;\n",
              "    }\n",
              "\n",
              "    .dataframe tbody tr th {\n",
              "        vertical-align: top;\n",
              "    }\n",
              "\n",
              "    .dataframe thead th {\n",
              "        text-align: right;\n",
              "    }\n",
              "</style>\n",
              "<table border=\"1\" class=\"dataframe\">\n",
              "  <thead>\n",
              "    <tr style=\"text-align: right;\">\n",
              "      <th></th>\n",
              "      <th>text</th>\n",
              "      <th>NousResearch/Llama-2-7b-chat-hf</th>\n",
              "      <th>chat_gpt_moth</th>\n",
              "      <th>cohere-command</th>\n",
              "      <th>darragh_claude_v6</th>\n",
              "      <th>darragh_claude_v7</th>\n",
              "      <th>falcon_180b_v1</th>\n",
              "      <th>kingki19_palm</th>\n",
              "      <th>llama2_chat</th>\n",
              "      <th>llama_70b_v1</th>\n",
              "      <th>mistral7binstruct_v1</th>\n",
              "      <th>mistral7binstruct_v2</th>\n",
              "      <th>mistralai/Mistral-7B-Instruct-v0.1</th>\n",
              "      <th>palm-text-bison1</th>\n",
              "      <th>persuade_corpus</th>\n",
              "      <th>radek_500</th>\n",
              "      <th>radekgpt4</th>\n",
              "      <th>train_essays</th>\n",
              "    </tr>\n",
              "  </thead>\n",
              "  <tbody>\n",
              "    <tr>\n",
              "      <th>0</th>\n",
              "      <td>Phones\\n\\nModern humans today are always on th...</td>\n",
              "      <td>0</td>\n",
              "      <td>0</td>\n",
              "      <td>0</td>\n",
              "      <td>0</td>\n",
              "      <td>0</td>\n",
              "      <td>0</td>\n",
              "      <td>0</td>\n",
              "      <td>0</td>\n",
              "      <td>0</td>\n",
              "      <td>0</td>\n",
              "      <td>0</td>\n",
              "      <td>0</td>\n",
              "      <td>0</td>\n",
              "      <td>1</td>\n",
              "      <td>0</td>\n",
              "      <td>0</td>\n",
              "      <td>0</td>\n",
              "    </tr>\n",
              "    <tr>\n",
              "      <th>1</th>\n",
              "      <td>This essay will explain if drivers should or s...</td>\n",
              "      <td>0</td>\n",
              "      <td>0</td>\n",
              "      <td>0</td>\n",
              "      <td>0</td>\n",
              "      <td>0</td>\n",
              "      <td>0</td>\n",
              "      <td>0</td>\n",
              "      <td>0</td>\n",
              "      <td>0</td>\n",
              "      <td>0</td>\n",
              "      <td>0</td>\n",
              "      <td>0</td>\n",
              "      <td>0</td>\n",
              "      <td>1</td>\n",
              "      <td>0</td>\n",
              "      <td>0</td>\n",
              "      <td>0</td>\n",
              "    </tr>\n",
              "    <tr>\n",
              "      <th>2</th>\n",
              "      <td>Driving while the use of cellular devices\\n\\nT...</td>\n",
              "      <td>0</td>\n",
              "      <td>0</td>\n",
              "      <td>0</td>\n",
              "      <td>0</td>\n",
              "      <td>0</td>\n",
              "      <td>0</td>\n",
              "      <td>0</td>\n",
              "      <td>0</td>\n",
              "      <td>0</td>\n",
              "      <td>0</td>\n",
              "      <td>0</td>\n",
              "      <td>0</td>\n",
              "      <td>0</td>\n",
              "      <td>1</td>\n",
              "      <td>0</td>\n",
              "      <td>0</td>\n",
              "      <td>0</td>\n",
              "    </tr>\n",
              "    <tr>\n",
              "      <th>3</th>\n",
              "      <td>Phones &amp; Driving\\n\\nDrivers should not be able...</td>\n",
              "      <td>0</td>\n",
              "      <td>0</td>\n",
              "      <td>0</td>\n",
              "      <td>0</td>\n",
              "      <td>0</td>\n",
              "      <td>0</td>\n",
              "      <td>0</td>\n",
              "      <td>0</td>\n",
              "      <td>0</td>\n",
              "      <td>0</td>\n",
              "      <td>0</td>\n",
              "      <td>0</td>\n",
              "      <td>0</td>\n",
              "      <td>1</td>\n",
              "      <td>0</td>\n",
              "      <td>0</td>\n",
              "      <td>0</td>\n",
              "    </tr>\n",
              "    <tr>\n",
              "      <th>4</th>\n",
              "      <td>Cell Phone Operation While Driving\\n\\nThe abil...</td>\n",
              "      <td>0</td>\n",
              "      <td>0</td>\n",
              "      <td>0</td>\n",
              "      <td>0</td>\n",
              "      <td>0</td>\n",
              "      <td>0</td>\n",
              "      <td>0</td>\n",
              "      <td>0</td>\n",
              "      <td>0</td>\n",
              "      <td>0</td>\n",
              "      <td>0</td>\n",
              "      <td>0</td>\n",
              "      <td>0</td>\n",
              "      <td>1</td>\n",
              "      <td>0</td>\n",
              "      <td>0</td>\n",
              "      <td>0</td>\n",
              "    </tr>\n",
              "  </tbody>\n",
              "</table>\n",
              "</div>"
            ],
            "text/plain": [
              "                                                text  \\\n",
              "0  Phones\\n\\nModern humans today are always on th...   \n",
              "1  This essay will explain if drivers should or s...   \n",
              "2  Driving while the use of cellular devices\\n\\nT...   \n",
              "3  Phones & Driving\\n\\nDrivers should not be able...   \n",
              "4  Cell Phone Operation While Driving\\n\\nThe abil...   \n",
              "\n",
              "   NousResearch/Llama-2-7b-chat-hf  chat_gpt_moth  cohere-command  \\\n",
              "0                                0              0               0   \n",
              "1                                0              0               0   \n",
              "2                                0              0               0   \n",
              "3                                0              0               0   \n",
              "4                                0              0               0   \n",
              "\n",
              "   darragh_claude_v6  darragh_claude_v7  falcon_180b_v1  kingki19_palm  \\\n",
              "0                  0                  0               0              0   \n",
              "1                  0                  0               0              0   \n",
              "2                  0                  0               0              0   \n",
              "3                  0                  0               0              0   \n",
              "4                  0                  0               0              0   \n",
              "\n",
              "   llama2_chat  llama_70b_v1  mistral7binstruct_v1  mistral7binstruct_v2  \\\n",
              "0            0             0                     0                     0   \n",
              "1            0             0                     0                     0   \n",
              "2            0             0                     0                     0   \n",
              "3            0             0                     0                     0   \n",
              "4            0             0                     0                     0   \n",
              "\n",
              "   mistralai/Mistral-7B-Instruct-v0.1  palm-text-bison1  persuade_corpus  \\\n",
              "0                                   0                 0                1   \n",
              "1                                   0                 0                1   \n",
              "2                                   0                 0                1   \n",
              "3                                   0                 0                1   \n",
              "4                                   0                 0                1   \n",
              "\n",
              "   radek_500  radekgpt4  train_essays  \n",
              "0          0          0             0  \n",
              "1          0          0             0  \n",
              "2          0          0             0  \n",
              "3          0          0             0  \n",
              "4          0          0             0  "
            ]
          },
          "execution_count": 4,
          "metadata": {},
          "output_type": "execute_result"
        }
      ],
      "source": [
        "dataset_path = '/Users/rjaditya/Documents/NEU-SEM/Spring-2024/ML/LLM-vs-Human-Text-Detection/dataset/train_v2_drcat_02.csv'\n",
        "df = pd.read_csv(dataset_path, header = 0)\n",
        "### get the labels\n",
        "label = df['label']\n",
        "df.drop(columns='label', axis = 1, inplace = True)\n",
        "df.drop(columns='RDizzl3_seven', axis = 1, inplace=True)\n",
        "\n",
        "### remove a feature that is not important for the task\n",
        "df.drop(columns='prompt_name', axis =1, inplace = True)\n",
        "\n",
        "### one hot encode the source (human, llm1, llm2, ...)\n",
        "encoded = pd.get_dummies(df['source'])\n",
        "source = set(df['source'])\n",
        "for i in source:\n",
        "    encoded[i] = encoded[i].astype('int')\n",
        "df = pd.concat([df, encoded], axis = 1)\n",
        "df.drop('source', axis = 1, inplace=True)\n",
        "\n",
        "### change the label\n",
        "df.head()"
      ]
    },
    {
      "cell_type": "code",
      "execution_count": null,
      "metadata": {
        "colab": {
          "base_uri": "https://localhost:8080/"
        },
        "id": "OHIiurEm_lXA",
        "outputId": "332a0792-2f8e-499a-ac50-c694ea81457b"
      },
      "outputs": [],
      "source": [
        "### Train test split (75, 25)\n",
        "# X_train, Y_train, X_test, Y_test = train_test_split(df, label, shuffle = True)"
      ]
    },
    {
      "cell_type": "code",
      "execution_count": 5,
      "metadata": {},
      "outputs": [
        {
          "name": "stderr",
          "output_type": "stream",
          "text": [
            "/opt/homebrew/anaconda3/envs/ML/lib/python3.8/site-packages/tqdm/auto.py:21: TqdmWarning: IProgress not found. Please update jupyter and ipywidgets. See https://ipywidgets.readthedocs.io/en/stable/user_install.html\n",
            "  from .autonotebook import tqdm as notebook_tqdm\n"
          ]
        }
      ],
      "source": [
        "from transformers import AlbertTokenizer, AlbertModel\n",
        "import torch\n",
        "\n",
        "name = 'albert-base-v2'\n",
        "tokenizer = AlbertTokenizer.from_pretrained(name)\n",
        "model = AlbertModel.from_pretrained(name)\n"
      ]
    },
    {
      "cell_type": "code",
      "execution_count": 6,
      "metadata": {},
      "outputs": [],
      "source": [
        "def pre_process(essay):\n",
        "    doc = process_tweet(essay)\n",
        "    print(doc)\n",
        "    return doc\n",
        "\n",
        "def convert_essay_to_embeddings(essay):\n",
        "    #preprocess = pre_process(essay) # if you want to stem and lemmatize your dataset. \n",
        "    tokens = tokenizer.encode(essay, padding=True , truncation=True, add_special_tokens = True, return_tensors = 'pt')\n",
        "    with torch.no_grad():\n",
        "        op = model(tokens)\n",
        "        embeddings = op.last_hidden_state\n",
        "    pooled_embedding = torch.mean(embeddings, dim = 1).squeeze()\n",
        "    return pooled_embedding.numpy()"
      ]
    },
    {
      "cell_type": "code",
      "execution_count": 12,
      "metadata": {},
      "outputs": [],
      "source": []
    },
    {
      "cell_type": "code",
      "execution_count": null,
      "metadata": {},
      "outputs": [],
      "source": [
        "import tqdm\n",
        "embeddings = []\n",
        "for essay in tqdm(list(df['text'])):\n",
        "    embeddings.append(convert_essay_to_embeddings(essay))"
      ]
    },
    {
      "cell_type": "code",
      "execution_count": null,
      "metadata": {},
      "outputs": [],
      "source": [
        "print(len(embeddings) == len(df['text']))\n",
        "print(\"*****************************************\")\n",
        "print(embeddings[0])"
      ]
    }
  ],
  "metadata": {
    "accelerator": "GPU",
    "colab": {
      "gpuType": "T4",
      "provenance": []
    },
    "kernelspec": {
      "display_name": "Python 3",
      "name": "python3"
    },
    "language_info": {
      "codemirror_mode": {
        "name": "ipython",
        "version": 3
      },
      "file_extension": ".py",
      "mimetype": "text/x-python",
      "name": "python",
      "nbconvert_exporter": "python",
      "pygments_lexer": "ipython3",
      "version": "3.8.19"
    }
  },
  "nbformat": 4,
  "nbformat_minor": 0
}
