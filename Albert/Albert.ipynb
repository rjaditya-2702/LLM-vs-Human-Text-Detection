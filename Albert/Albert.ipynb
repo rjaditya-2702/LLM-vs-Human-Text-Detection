{
 "cells": [
  {
   "cell_type": "code",
   "execution_count": 26,
   "metadata": {},
   "outputs": [
    {
     "data": {
      "text/html": [
       "<div>\n",
       "<style scoped>\n",
       "    .dataframe tbody tr th:only-of-type {\n",
       "        vertical-align: middle;\n",
       "    }\n",
       "\n",
       "    .dataframe tbody tr th {\n",
       "        vertical-align: top;\n",
       "    }\n",
       "\n",
       "    .dataframe thead th {\n",
       "        text-align: right;\n",
       "    }\n",
       "</style>\n",
       "<table border=\"1\" class=\"dataframe\">\n",
       "  <thead>\n",
       "    <tr style=\"text-align: right;\">\n",
       "      <th></th>\n",
       "      <th>text</th>\n",
       "      <th>label</th>\n",
       "    </tr>\n",
       "  </thead>\n",
       "  <tbody>\n",
       "    <tr>\n",
       "      <th>31052</th>\n",
       "      <td>The legendary entrepreneur and philanthropist ...</td>\n",
       "      <td>1</td>\n",
       "    </tr>\n",
       "    <tr>\n",
       "      <th>36091</th>\n",
       "      <td>I believe it is incredibly beneficial for old...</td>\n",
       "      <td>1</td>\n",
       "    </tr>\n",
       "    <tr>\n",
       "      <th>28491</th>\n",
       "      <td>In recent years, there has been a growing tren...</td>\n",
       "      <td>1</td>\n",
       "    </tr>\n",
       "    <tr>\n",
       "      <th>10238</th>\n",
       "      <td>In my opinion, the Facial Action Coding System...</td>\n",
       "      <td>0</td>\n",
       "    </tr>\n",
       "    <tr>\n",
       "      <th>16811</th>\n",
       "      <td>Driverless cars will be an important and inter...</td>\n",
       "      <td>0</td>\n",
       "    </tr>\n",
       "  </tbody>\n",
       "</table>\n",
       "</div>"
      ],
      "text/plain": [
       "                                                    text  label\n",
       "31052  The legendary entrepreneur and philanthropist ...      1\n",
       "36091   I believe it is incredibly beneficial for old...      1\n",
       "28491  In recent years, there has been a growing tren...      1\n",
       "10238  In my opinion, the Facial Action Coding System...      0\n",
       "16811  Driverless cars will be an important and inter...      0"
      ]
     },
     "execution_count": 26,
     "metadata": {},
     "output_type": "execute_result"
    }
   ],
   "source": [
    "from sklearn.model_selection import train_test_split\n",
    "import pandas as pd\n",
    "import numpy as np\n",
    "from datasets import Dataset, DatasetDict\n",
    "\n",
    "dataset_path = '/Users/rjaditya/Documents/NEU-SEM/Spring-2024/ML/LLM-vs-Human-Text-Detection/dataset/train_v2_drcat_02.csv'\n",
    "df = pd.read_csv(dataset_path, header = 0)\n",
    "### get the labels\n",
    "label = df['label']\n",
    "# df.drop(columns='label', axis = 1, inplace = True)\n",
    "df.drop(columns='RDizzl3_seven', axis = 1, inplace=True)\n",
    "df.drop(columns='prompt_name', axis = 1, inplace=True)\n",
    "df.drop(columns='source', axis = 1, inplace=True)\n",
    "\n",
    "X_train, Y_train, X_test, Y_test = train_test_split(df, label, shuffle = True)\n",
    "\n",
    "ds1 = pd.concat([X_train, Y_train])\n",
    "ds2 = pd.concat([X_test, Y_test])\n",
    "ds1.head()"
   ]
  },
  {
   "cell_type": "code",
   "execution_count": 28,
   "metadata": {},
   "outputs": [
    {
     "name": "stdout",
     "output_type": "stream",
     "text": [
      "Unexpected exception formatting exception. Falling back to standard exception\n"
     ]
    },
    {
     "name": "stderr",
     "output_type": "stream",
     "text": [
      "Traceback (most recent call last):\n",
      "  File \"/opt/homebrew/anaconda3/envs/ML/lib/python3.8/site-packages/IPython/core/interactiveshell.py\", line 3508, in run_code\n",
      "    exec(code_obj, self.user_global_ns, self.user_ns)\n",
      "  File \"/var/folders/fy/t6h9m9v57sb6bq5hmv_wv3zm0000gn/T/ipykernel_12154/474911649.py\", line 2, in <module>\n",
      "    test_ds = Dataset.from_pandas(ds2)\n",
      "  File \"/opt/homebrew/anaconda3/envs/ML/lib/python3.8/site-packages/datasets/arrow_dataset.py\", line 861, in from_pandas\n",
      "    table = InMemoryTable.from_pandas(\n",
      "  File \"/opt/homebrew/anaconda3/envs/ML/lib/python3.8/site-packages/datasets/table.py\", line 720, in from_pandas\n",
      "    return cls(pa.Table.from_pandas(*args, **kwargs))\n",
      "  File \"pyarrow/table.pxi\", line 3874, in pyarrow.lib.Table.from_pandas\n",
      "  File \"/opt/homebrew/anaconda3/envs/ML/lib/python3.8/site-packages/pyarrow/pandas_compat.py\", line 570, in dataframe_to_arrays\n",
      "    convert_fields) = _get_columns_to_convert(df, schema, preserve_index,\n",
      "  File \"/opt/homebrew/anaconda3/envs/ML/lib/python3.8/site-packages/pyarrow/pandas_compat.py\", line 349, in _get_columns_to_convert\n",
      "    columns = _resolve_columns_of_interest(df, schema, columns)\n",
      "  File \"/opt/homebrew/anaconda3/envs/ML/lib/python3.8/site-packages/pyarrow/pandas_compat.py\", line 523, in _resolve_columns_of_interest\n",
      "    columns = df.columns\n",
      "  File \"/opt/homebrew/anaconda3/envs/ML/lib/python3.8/site-packages/pandas/core/generic.py\", line 5989, in __getattr__\n",
      "    return object.__getattribute__(self, name)\n",
      "AttributeError: 'Series' object has no attribute 'columns'\n",
      "\n",
      "During handling of the above exception, another exception occurred:\n",
      "\n",
      "Traceback (most recent call last):\n",
      "  File \"/opt/homebrew/anaconda3/envs/ML/lib/python3.8/site-packages/IPython/core/interactiveshell.py\", line 2105, in showtraceback\n",
      "    stb = self.InteractiveTB.structured_traceback(\n",
      "  File \"/opt/homebrew/anaconda3/envs/ML/lib/python3.8/site-packages/IPython/core/ultratb.py\", line 1396, in structured_traceback\n",
      "    return FormattedTB.structured_traceback(\n",
      "  File \"/opt/homebrew/anaconda3/envs/ML/lib/python3.8/site-packages/IPython/core/ultratb.py\", line 1287, in structured_traceback\n",
      "    return VerboseTB.structured_traceback(\n",
      "  File \"/opt/homebrew/anaconda3/envs/ML/lib/python3.8/site-packages/IPython/core/ultratb.py\", line 1140, in structured_traceback\n",
      "    formatted_exception = self.format_exception_as_a_whole(etype, evalue, etb, number_of_lines_of_context,\n",
      "  File \"/opt/homebrew/anaconda3/envs/ML/lib/python3.8/site-packages/IPython/core/ultratb.py\", line 1030, in format_exception_as_a_whole\n",
      "    self.get_records(etb, number_of_lines_of_context, tb_offset) if etb else []\n",
      "  File \"/opt/homebrew/anaconda3/envs/ML/lib/python3.8/site-packages/IPython/core/ultratb.py\", line 1122, in get_records\n",
      "    FrameInfo(\n",
      "  File \"/opt/homebrew/anaconda3/envs/ML/lib/python3.8/site-packages/IPython/core/ultratb.py\", line 766, in __init__\n",
      "    ix = inspect.getsourcelines(frame)\n",
      "  File \"/opt/homebrew/anaconda3/envs/ML/lib/python3.8/inspect.py\", line 979, in getsourcelines\n",
      "    lines, lnum = findsource(object)\n",
      "  File \"/opt/homebrew/anaconda3/envs/ML/lib/python3.8/inspect.py\", line 798, in findsource\n",
      "    raise OSError('could not get source code')\n",
      "OSError: could not get source code\n"
     ]
    }
   ],
   "source": [
    "train_ds = Dataset.from_pandas(ds1)\n",
    "test_ds = Dataset.from_pandas(ds2)\n"
   ]
  },
  {
   "cell_type": "code",
   "execution_count": 8,
   "metadata": {},
   "outputs": [],
   "source": [
    "from transformers import AlbertTokenizer, AlbertModel\n",
    "import torch\n",
    "\n",
    "### testing\n",
    "model = AlbertModel.from_pretrained(\"albert-base-v2\")\n",
    "tokenizer = AlbertTokenizer.from_pretrained(\"albert-base-v2\")"
   ]
  },
  {
   "cell_type": "code",
   "execution_count": null,
   "metadata": {},
   "outputs": [],
   "source": [
    "import torch\n",
    "import torch.nn.functional as F\n",
    "\n",
    "batch = tokenizer(list(X_train['text']), padding = True, truncation = True, max_length = 1000, return_tensors = \"pt\")\n",
    "print(batch)"
   ]
  },
  {
   "cell_type": "code",
   "execution_count": null,
   "metadata": {},
   "outputs": [],
   "source": [
    "from transformers import Trainer, TrainingArguments\n",
    "\n",
    "args = TrainingArguments(\"LLMvHuman\")\n",
    "trainer = Trainer(\n",
    "    model,\n",
    "    args,\n",
    "    train_dataset=X_train['text'],\n",
    "    eval_dataset=X_test['text'],\n",
    "    data_collator=data_collector,\n",
    "    tokenizer=tokenizer\n",
    ")\n",
    "\n",
    "while torch.no_grad():\n",
    "    op = model(**batch)\n",
    "    prediction = F.softmax(op.logits, dim = 1)\n",
    "    labels = torch.argmax(prediction)\n",
    "    print(label)"
   ]
  }
 ],
 "metadata": {
  "kernelspec": {
   "display_name": "ML",
   "language": "python",
   "name": "python3"
  },
  "language_info": {
   "codemirror_mode": {
    "name": "ipython",
    "version": 3
   },
   "file_extension": ".py",
   "mimetype": "text/x-python",
   "name": "python",
   "nbconvert_exporter": "python",
   "pygments_lexer": "ipython3",
   "version": "3.8.19"
  }
 },
 "nbformat": 4,
 "nbformat_minor": 2
}
